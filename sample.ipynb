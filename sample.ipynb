{
 "cells": [
  {
   "cell_type": "code",
   "execution_count": 1,
   "metadata": {},
   "outputs": [
    {
     "name": "stdout",
     "output_type": "stream",
     "text": [
      "29 is a prime number\n"
     ]
    }
   ],
   "source": [
    "# Program to check if a number is prime or not\n",
    "\n",
    "num = 29\n",
    "\n",
    "# To take input from the user\n",
    "#num = int(input(\"Enter a number: \"))\n",
    "\n",
    "# define a flag variable\n",
    "flag = False\n",
    "\n",
    "if num == 1:\n",
    "    print(num, \"is not a prime number\")\n",
    "elif num > 1:\n",
    "    # check for factors\n",
    "    for i in range(2, num):\n",
    "        if (num % i) == 0:\n",
    "            # if factor is found, set flag to True\n",
    "            flag = True\n",
    "            # break out of loop\n",
    "            break\n",
    "\n",
    "    # check if flag is True\n",
    "    if flag:\n",
    "        print(num, \"is not a prime number\")\n",
    "    else:\n",
    "        print(num, \"is a prime number\")"
   ]
  },
  {
   "cell_type": "code",
   "execution_count": 2,
   "metadata": {},
   "outputs": [
    {
     "name": "stdout",
     "output_type": "stream",
     "text": [
      "407 is not a prime number\n",
      "11 times 37 is 407\n"
     ]
    }
   ],
   "source": [
    "num = 407\n",
    "\n",
    "# To take input from the user\n",
    "#num = int(input(\"Enter a number: \"))\n",
    "\n",
    "if num == 1:\n",
    "    print(num, \"is not a prime number\")\n",
    "elif num > 1:\n",
    "   # check for factors\n",
    "   for i in range(2,num):\n",
    "       if (num % i) == 0:\n",
    "           print(num,\"is not a prime number\")\n",
    "           print(i,\"times\",num//i,\"is\",num)\n",
    "           break\n",
    "   else:\n",
    "       print(num,\"is a prime number\")\n",
    "       \n",
    "# if input number is less than\n",
    "# or equal to 1, it is not prime\n",
    "else:\n",
    "   print(num,\"is not a prime number\")"
   ]
  }
 ],
 "metadata": {
  "kernelspec": {
   "display_name": "base",
   "language": "python",
   "name": "python3"
  },
  "language_info": {
   "codemirror_mode": {
    "name": "ipython",
    "version": 3
   },
   "file_extension": ".py",
   "mimetype": "text/x-python",
   "name": "python",
   "nbconvert_exporter": "python",
   "pygments_lexer": "ipython3",
   "version": "3.11.5"
  }
 },
 "nbformat": 4,
 "nbformat_minor": 2
}
